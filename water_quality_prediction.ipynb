{
 "cells": [
  {
   "cell_type": "code",
   "execution_count": 1,
   "metadata": {
    "id": "ncrDU9frrxWu"
   },
   "outputs": [
    {
     "name": "stdout",
     "output_type": "stream",
     "text": [
      "WARNING:tensorflow:From c:\\Users\\Siva prathap K\\Desktop\\project\\venv\\Lib\\site-packages\\keras\\src\\losses.py:2976: The name tf.losses.sparse_softmax_cross_entropy is deprecated. Please use tf.compat.v1.losses.sparse_softmax_cross_entropy instead.\n",
      "\n"
     ]
    }
   ],
   "source": [
    "#necessary imports\n",
    "import numpy as np\n",
    "import pandas as pd\n",
    "import matplotlib.pyplot as plt\n",
    "import seaborn as sns\n",
    "import warnings\n",
    "from sklearn.model_selection import train_test_split\n",
    "from sklearn.preprocessing import StandardScaler\n",
    "from sklearn.metrics import confusion_matrix\n",
    "from tensorflow.keras.models import Sequential\n",
    "from tensorflow.keras.layers import Dense\n",
    "from imblearn.over_sampling import SMOTE\n",
    "from collections import Counter\n",
    "warnings.filterwarnings('ignore')\n",
    "sns.set_style('whitegrid')\n",
    "%matplotlib inline"
   ]
  },
  {
   "cell_type": "code",
   "execution_count": 2,
   "metadata": {
    "colab": {
     "base_uri": "https://localhost:8080/",
     "height": 206
    },
    "id": "f0YOUormsCXY",
    "outputId": "aa743d18-5030-4dcb-9817-26f1d0b96af7"
   },
   "outputs": [
    {
     "data": {
      "text/html": [
       "<div>\n",
       "<style scoped>\n",
       "    .dataframe tbody tr th:only-of-type {\n",
       "        vertical-align: middle;\n",
       "    }\n",
       "\n",
       "    .dataframe tbody tr th {\n",
       "        vertical-align: top;\n",
       "    }\n",
       "\n",
       "    .dataframe thead th {\n",
       "        text-align: right;\n",
       "    }\n",
       "</style>\n",
       "<table border=\"1\" class=\"dataframe\">\n",
       "  <thead>\n",
       "    <tr style=\"text-align: right;\">\n",
       "      <th></th>\n",
       "      <th>ph</th>\n",
       "      <th>Hardness</th>\n",
       "      <th>Solids</th>\n",
       "      <th>Chloramines</th>\n",
       "      <th>Sulfate</th>\n",
       "      <th>Conductivity</th>\n",
       "      <th>Organic_carbon</th>\n",
       "      <th>Trihalomethanes</th>\n",
       "      <th>Turbidity</th>\n",
       "      <th>Potability</th>\n",
       "    </tr>\n",
       "  </thead>\n",
       "  <tbody>\n",
       "    <tr>\n",
       "      <th>0</th>\n",
       "      <td>NaN</td>\n",
       "      <td>204.890455</td>\n",
       "      <td>20791.318981</td>\n",
       "      <td>7.300212</td>\n",
       "      <td>368.516441</td>\n",
       "      <td>564.308654</td>\n",
       "      <td>10.379783</td>\n",
       "      <td>86.990970</td>\n",
       "      <td>2.963135</td>\n",
       "      <td>0</td>\n",
       "    </tr>\n",
       "    <tr>\n",
       "      <th>1</th>\n",
       "      <td>3.716080</td>\n",
       "      <td>129.422921</td>\n",
       "      <td>18630.057858</td>\n",
       "      <td>6.635246</td>\n",
       "      <td>NaN</td>\n",
       "      <td>592.885359</td>\n",
       "      <td>15.180013</td>\n",
       "      <td>56.329076</td>\n",
       "      <td>4.500656</td>\n",
       "      <td>0</td>\n",
       "    </tr>\n",
       "    <tr>\n",
       "      <th>2</th>\n",
       "      <td>8.099124</td>\n",
       "      <td>224.236259</td>\n",
       "      <td>19909.541732</td>\n",
       "      <td>9.275884</td>\n",
       "      <td>NaN</td>\n",
       "      <td>418.606213</td>\n",
       "      <td>16.868637</td>\n",
       "      <td>66.420093</td>\n",
       "      <td>3.055934</td>\n",
       "      <td>0</td>\n",
       "    </tr>\n",
       "    <tr>\n",
       "      <th>3</th>\n",
       "      <td>8.316766</td>\n",
       "      <td>214.373394</td>\n",
       "      <td>22018.417441</td>\n",
       "      <td>8.059332</td>\n",
       "      <td>356.886136</td>\n",
       "      <td>363.266516</td>\n",
       "      <td>18.436524</td>\n",
       "      <td>100.341674</td>\n",
       "      <td>4.628771</td>\n",
       "      <td>0</td>\n",
       "    </tr>\n",
       "    <tr>\n",
       "      <th>4</th>\n",
       "      <td>9.092223</td>\n",
       "      <td>181.101509</td>\n",
       "      <td>17978.986339</td>\n",
       "      <td>6.546600</td>\n",
       "      <td>310.135738</td>\n",
       "      <td>398.410813</td>\n",
       "      <td>11.558279</td>\n",
       "      <td>31.997993</td>\n",
       "      <td>4.075075</td>\n",
       "      <td>0</td>\n",
       "    </tr>\n",
       "  </tbody>\n",
       "</table>\n",
       "</div>"
      ],
      "text/plain": [
       "         ph    Hardness        Solids  Chloramines     Sulfate  Conductivity  \\\n",
       "0       NaN  204.890455  20791.318981     7.300212  368.516441    564.308654   \n",
       "1  3.716080  129.422921  18630.057858     6.635246         NaN    592.885359   \n",
       "2  8.099124  224.236259  19909.541732     9.275884         NaN    418.606213   \n",
       "3  8.316766  214.373394  22018.417441     8.059332  356.886136    363.266516   \n",
       "4  9.092223  181.101509  17978.986339     6.546600  310.135738    398.410813   \n",
       "\n",
       "   Organic_carbon  Trihalomethanes  Turbidity  Potability  \n",
       "0       10.379783        86.990970   2.963135           0  \n",
       "1       15.180013        56.329076   4.500656           0  \n",
       "2       16.868637        66.420093   3.055934           0  \n",
       "3       18.436524       100.341674   4.628771           0  \n",
       "4       11.558279        31.997993   4.075075           0  "
      ]
     },
     "execution_count": 2,
     "metadata": {},
     "output_type": "execute_result"
    }
   ],
   "source": [
    "#import the data\n",
    "df = pd.read_csv('water_potability.csv')\n",
    "#view the first first rows of the data\n",
    "df.head()"
   ]
  },
  {
   "cell_type": "code",
   "execution_count": 3,
   "metadata": {
    "colab": {
     "base_uri": "https://localhost:8080/"
    },
    "id": "jxYACToysbtx",
    "outputId": "a1d31ae0-0b57-49f4-e29d-a81d39daeb30"
   },
   "outputs": [
    {
     "data": {
      "text/plain": [
       "(3276, 10)"
      ]
     },
     "execution_count": 3,
     "metadata": {},
     "output_type": "execute_result"
    }
   ],
   "source": [
    "#check the rows and columns of the data\n",
    "df.shape"
   ]
  },
  {
   "cell_type": "code",
   "execution_count": 4,
   "metadata": {
    "id": "zQ3LNGYYsrE5"
   },
   "outputs": [],
   "source": [
    "df_temp = df.copy()"
   ]
  },
  {
   "cell_type": "code",
   "execution_count": 5,
   "metadata": {
    "colab": {
     "base_uri": "https://localhost:8080/"
    },
    "id": "SLm5NkwDszA2",
    "outputId": "59191549-b298-4fca-88a7-8a712997139a"
   },
   "outputs": [
    {
     "name": "stdout",
     "output_type": "stream",
     "text": [
      "<class 'pandas.core.frame.DataFrame'>\n",
      "RangeIndex: 3276 entries, 0 to 3275\n",
      "Data columns (total 10 columns):\n",
      " #   Column           Non-Null Count  Dtype  \n",
      "---  ------           --------------  -----  \n",
      " 0   ph               2785 non-null   float64\n",
      " 1   Hardness         3276 non-null   float64\n",
      " 2   Solids           3276 non-null   float64\n",
      " 3   Chloramines      3276 non-null   float64\n",
      " 4   Sulfate          2495 non-null   float64\n",
      " 5   Conductivity     3276 non-null   float64\n",
      " 6   Organic_carbon   3276 non-null   float64\n",
      " 7   Trihalomethanes  3114 non-null   float64\n",
      " 8   Turbidity        3276 non-null   float64\n",
      " 9   Potability       3276 non-null   int64  \n",
      "dtypes: float64(9), int64(1)\n",
      "memory usage: 256.1 KB\n"
     ]
    }
   ],
   "source": [
    "df_temp.info()"
   ]
  },
  {
   "cell_type": "code",
   "execution_count": 6,
   "metadata": {
    "colab": {
     "base_uri": "https://localhost:8080/",
     "height": 320
    },
    "id": "Ytshww0Is5Hh",
    "outputId": "3ff5e33a-6873-44a0-8f37-31b718e386df"
   },
   "outputs": [
    {
     "data": {
      "text/html": [
       "<div>\n",
       "<style scoped>\n",
       "    .dataframe tbody tr th:only-of-type {\n",
       "        vertical-align: middle;\n",
       "    }\n",
       "\n",
       "    .dataframe tbody tr th {\n",
       "        vertical-align: top;\n",
       "    }\n",
       "\n",
       "    .dataframe thead th {\n",
       "        text-align: right;\n",
       "    }\n",
       "</style>\n",
       "<table border=\"1\" class=\"dataframe\">\n",
       "  <thead>\n",
       "    <tr style=\"text-align: right;\">\n",
       "      <th></th>\n",
       "      <th>ph</th>\n",
       "      <th>Hardness</th>\n",
       "      <th>Solids</th>\n",
       "      <th>Chloramines</th>\n",
       "      <th>Sulfate</th>\n",
       "      <th>Conductivity</th>\n",
       "      <th>Organic_carbon</th>\n",
       "      <th>Trihalomethanes</th>\n",
       "      <th>Turbidity</th>\n",
       "      <th>Potability</th>\n",
       "    </tr>\n",
       "  </thead>\n",
       "  <tbody>\n",
       "    <tr>\n",
       "      <th>count</th>\n",
       "      <td>2785.000000</td>\n",
       "      <td>3276.000000</td>\n",
       "      <td>3276.000000</td>\n",
       "      <td>3276.000000</td>\n",
       "      <td>2495.000000</td>\n",
       "      <td>3276.000000</td>\n",
       "      <td>3276.000000</td>\n",
       "      <td>3114.000000</td>\n",
       "      <td>3276.000000</td>\n",
       "      <td>3276.000000</td>\n",
       "    </tr>\n",
       "    <tr>\n",
       "      <th>mean</th>\n",
       "      <td>7.080795</td>\n",
       "      <td>196.369496</td>\n",
       "      <td>22014.092526</td>\n",
       "      <td>7.122277</td>\n",
       "      <td>333.775777</td>\n",
       "      <td>426.205111</td>\n",
       "      <td>14.284970</td>\n",
       "      <td>66.396293</td>\n",
       "      <td>3.966786</td>\n",
       "      <td>0.390110</td>\n",
       "    </tr>\n",
       "    <tr>\n",
       "      <th>std</th>\n",
       "      <td>1.594320</td>\n",
       "      <td>32.879761</td>\n",
       "      <td>8768.570828</td>\n",
       "      <td>1.583085</td>\n",
       "      <td>41.416840</td>\n",
       "      <td>80.824064</td>\n",
       "      <td>3.308162</td>\n",
       "      <td>16.175008</td>\n",
       "      <td>0.780382</td>\n",
       "      <td>0.487849</td>\n",
       "    </tr>\n",
       "    <tr>\n",
       "      <th>min</th>\n",
       "      <td>0.000000</td>\n",
       "      <td>47.432000</td>\n",
       "      <td>320.942611</td>\n",
       "      <td>0.352000</td>\n",
       "      <td>129.000000</td>\n",
       "      <td>181.483754</td>\n",
       "      <td>2.200000</td>\n",
       "      <td>0.738000</td>\n",
       "      <td>1.450000</td>\n",
       "      <td>0.000000</td>\n",
       "    </tr>\n",
       "    <tr>\n",
       "      <th>25%</th>\n",
       "      <td>6.093092</td>\n",
       "      <td>176.850538</td>\n",
       "      <td>15666.690297</td>\n",
       "      <td>6.127421</td>\n",
       "      <td>307.699498</td>\n",
       "      <td>365.734414</td>\n",
       "      <td>12.065801</td>\n",
       "      <td>55.844536</td>\n",
       "      <td>3.439711</td>\n",
       "      <td>0.000000</td>\n",
       "    </tr>\n",
       "    <tr>\n",
       "      <th>50%</th>\n",
       "      <td>7.036752</td>\n",
       "      <td>196.967627</td>\n",
       "      <td>20927.833607</td>\n",
       "      <td>7.130299</td>\n",
       "      <td>333.073546</td>\n",
       "      <td>421.884968</td>\n",
       "      <td>14.218338</td>\n",
       "      <td>66.622485</td>\n",
       "      <td>3.955028</td>\n",
       "      <td>0.000000</td>\n",
       "    </tr>\n",
       "    <tr>\n",
       "      <th>75%</th>\n",
       "      <td>8.062066</td>\n",
       "      <td>216.667456</td>\n",
       "      <td>27332.762127</td>\n",
       "      <td>8.114887</td>\n",
       "      <td>359.950170</td>\n",
       "      <td>481.792304</td>\n",
       "      <td>16.557652</td>\n",
       "      <td>77.337473</td>\n",
       "      <td>4.500320</td>\n",
       "      <td>1.000000</td>\n",
       "    </tr>\n",
       "    <tr>\n",
       "      <th>max</th>\n",
       "      <td>14.000000</td>\n",
       "      <td>323.124000</td>\n",
       "      <td>61227.196008</td>\n",
       "      <td>13.127000</td>\n",
       "      <td>481.030642</td>\n",
       "      <td>753.342620</td>\n",
       "      <td>28.300000</td>\n",
       "      <td>124.000000</td>\n",
       "      <td>6.739000</td>\n",
       "      <td>1.000000</td>\n",
       "    </tr>\n",
       "  </tbody>\n",
       "</table>\n",
       "</div>"
      ],
      "text/plain": [
       "                ph     Hardness        Solids  Chloramines      Sulfate  \\\n",
       "count  2785.000000  3276.000000   3276.000000  3276.000000  2495.000000   \n",
       "mean      7.080795   196.369496  22014.092526     7.122277   333.775777   \n",
       "std       1.594320    32.879761   8768.570828     1.583085    41.416840   \n",
       "min       0.000000    47.432000    320.942611     0.352000   129.000000   \n",
       "25%       6.093092   176.850538  15666.690297     6.127421   307.699498   \n",
       "50%       7.036752   196.967627  20927.833607     7.130299   333.073546   \n",
       "75%       8.062066   216.667456  27332.762127     8.114887   359.950170   \n",
       "max      14.000000   323.124000  61227.196008    13.127000   481.030642   \n",
       "\n",
       "       Conductivity  Organic_carbon  Trihalomethanes    Turbidity   Potability  \n",
       "count   3276.000000     3276.000000      3114.000000  3276.000000  3276.000000  \n",
       "mean     426.205111       14.284970        66.396293     3.966786     0.390110  \n",
       "std       80.824064        3.308162        16.175008     0.780382     0.487849  \n",
       "min      181.483754        2.200000         0.738000     1.450000     0.000000  \n",
       "25%      365.734414       12.065801        55.844536     3.439711     0.000000  \n",
       "50%      421.884968       14.218338        66.622485     3.955028     0.000000  \n",
       "75%      481.792304       16.557652        77.337473     4.500320     1.000000  \n",
       "max      753.342620       28.300000       124.000000     6.739000     1.000000  "
      ]
     },
     "execution_count": 6,
     "metadata": {},
     "output_type": "execute_result"
    }
   ],
   "source": [
    "df_temp.describe()"
   ]
  },
  {
   "cell_type": "code",
   "execution_count": 7,
   "metadata": {
    "colab": {
     "base_uri": "https://localhost:8080/",
     "height": 363
    },
    "id": "LUYOZ5iBs9Mh",
    "outputId": "5d2e01c4-7da9-4943-f13f-634eefd0d109"
   },
   "outputs": [
    {
     "data": {
      "text/html": [
       "<div>\n",
       "<style scoped>\n",
       "    .dataframe tbody tr th:only-of-type {\n",
       "        vertical-align: middle;\n",
       "    }\n",
       "\n",
       "    .dataframe tbody tr th {\n",
       "        vertical-align: top;\n",
       "    }\n",
       "\n",
       "    .dataframe thead th {\n",
       "        text-align: right;\n",
       "    }\n",
       "</style>\n",
       "<table border=\"1\" class=\"dataframe\">\n",
       "  <thead>\n",
       "    <tr style=\"text-align: right;\">\n",
       "      <th></th>\n",
       "      <th>ph</th>\n",
       "      <th>Hardness</th>\n",
       "      <th>Solids</th>\n",
       "      <th>Chloramines</th>\n",
       "      <th>Sulfate</th>\n",
       "      <th>Conductivity</th>\n",
       "      <th>Organic_carbon</th>\n",
       "      <th>Trihalomethanes</th>\n",
       "      <th>Turbidity</th>\n",
       "      <th>Potability</th>\n",
       "    </tr>\n",
       "  </thead>\n",
       "  <tbody>\n",
       "    <tr>\n",
       "      <th>ph</th>\n",
       "      <td>1.000000</td>\n",
       "      <td>0.082096</td>\n",
       "      <td>-0.089288</td>\n",
       "      <td>-0.034350</td>\n",
       "      <td>0.018203</td>\n",
       "      <td>0.018614</td>\n",
       "      <td>0.043503</td>\n",
       "      <td>0.003354</td>\n",
       "      <td>-0.039057</td>\n",
       "      <td>-0.003556</td>\n",
       "    </tr>\n",
       "    <tr>\n",
       "      <th>Hardness</th>\n",
       "      <td>0.082096</td>\n",
       "      <td>1.000000</td>\n",
       "      <td>-0.046899</td>\n",
       "      <td>-0.030054</td>\n",
       "      <td>-0.106923</td>\n",
       "      <td>-0.023915</td>\n",
       "      <td>0.003610</td>\n",
       "      <td>-0.013013</td>\n",
       "      <td>-0.014449</td>\n",
       "      <td>-0.013837</td>\n",
       "    </tr>\n",
       "    <tr>\n",
       "      <th>Solids</th>\n",
       "      <td>-0.089288</td>\n",
       "      <td>-0.046899</td>\n",
       "      <td>1.000000</td>\n",
       "      <td>-0.070148</td>\n",
       "      <td>-0.171804</td>\n",
       "      <td>0.013831</td>\n",
       "      <td>0.010242</td>\n",
       "      <td>-0.009143</td>\n",
       "      <td>0.019546</td>\n",
       "      <td>0.033743</td>\n",
       "    </tr>\n",
       "    <tr>\n",
       "      <th>Chloramines</th>\n",
       "      <td>-0.034350</td>\n",
       "      <td>-0.030054</td>\n",
       "      <td>-0.070148</td>\n",
       "      <td>1.000000</td>\n",
       "      <td>0.027244</td>\n",
       "      <td>-0.020486</td>\n",
       "      <td>-0.012653</td>\n",
       "      <td>0.017084</td>\n",
       "      <td>0.002363</td>\n",
       "      <td>0.023779</td>\n",
       "    </tr>\n",
       "    <tr>\n",
       "      <th>Sulfate</th>\n",
       "      <td>0.018203</td>\n",
       "      <td>-0.106923</td>\n",
       "      <td>-0.171804</td>\n",
       "      <td>0.027244</td>\n",
       "      <td>1.000000</td>\n",
       "      <td>-0.016121</td>\n",
       "      <td>0.030831</td>\n",
       "      <td>-0.030274</td>\n",
       "      <td>-0.011187</td>\n",
       "      <td>-0.023577</td>\n",
       "    </tr>\n",
       "    <tr>\n",
       "      <th>Conductivity</th>\n",
       "      <td>0.018614</td>\n",
       "      <td>-0.023915</td>\n",
       "      <td>0.013831</td>\n",
       "      <td>-0.020486</td>\n",
       "      <td>-0.016121</td>\n",
       "      <td>1.000000</td>\n",
       "      <td>0.020966</td>\n",
       "      <td>0.001285</td>\n",
       "      <td>0.005798</td>\n",
       "      <td>-0.008128</td>\n",
       "    </tr>\n",
       "    <tr>\n",
       "      <th>Organic_carbon</th>\n",
       "      <td>0.043503</td>\n",
       "      <td>0.003610</td>\n",
       "      <td>0.010242</td>\n",
       "      <td>-0.012653</td>\n",
       "      <td>0.030831</td>\n",
       "      <td>0.020966</td>\n",
       "      <td>1.000000</td>\n",
       "      <td>-0.013274</td>\n",
       "      <td>-0.027308</td>\n",
       "      <td>-0.030001</td>\n",
       "    </tr>\n",
       "    <tr>\n",
       "      <th>Trihalomethanes</th>\n",
       "      <td>0.003354</td>\n",
       "      <td>-0.013013</td>\n",
       "      <td>-0.009143</td>\n",
       "      <td>0.017084</td>\n",
       "      <td>-0.030274</td>\n",
       "      <td>0.001285</td>\n",
       "      <td>-0.013274</td>\n",
       "      <td>1.000000</td>\n",
       "      <td>-0.022145</td>\n",
       "      <td>0.007130</td>\n",
       "    </tr>\n",
       "    <tr>\n",
       "      <th>Turbidity</th>\n",
       "      <td>-0.039057</td>\n",
       "      <td>-0.014449</td>\n",
       "      <td>0.019546</td>\n",
       "      <td>0.002363</td>\n",
       "      <td>-0.011187</td>\n",
       "      <td>0.005798</td>\n",
       "      <td>-0.027308</td>\n",
       "      <td>-0.022145</td>\n",
       "      <td>1.000000</td>\n",
       "      <td>0.001581</td>\n",
       "    </tr>\n",
       "    <tr>\n",
       "      <th>Potability</th>\n",
       "      <td>-0.003556</td>\n",
       "      <td>-0.013837</td>\n",
       "      <td>0.033743</td>\n",
       "      <td>0.023779</td>\n",
       "      <td>-0.023577</td>\n",
       "      <td>-0.008128</td>\n",
       "      <td>-0.030001</td>\n",
       "      <td>0.007130</td>\n",
       "      <td>0.001581</td>\n",
       "      <td>1.000000</td>\n",
       "    </tr>\n",
       "  </tbody>\n",
       "</table>\n",
       "</div>"
      ],
      "text/plain": [
       "                       ph  Hardness    Solids  Chloramines   Sulfate  \\\n",
       "ph               1.000000  0.082096 -0.089288    -0.034350  0.018203   \n",
       "Hardness         0.082096  1.000000 -0.046899    -0.030054 -0.106923   \n",
       "Solids          -0.089288 -0.046899  1.000000    -0.070148 -0.171804   \n",
       "Chloramines     -0.034350 -0.030054 -0.070148     1.000000  0.027244   \n",
       "Sulfate          0.018203 -0.106923 -0.171804     0.027244  1.000000   \n",
       "Conductivity     0.018614 -0.023915  0.013831    -0.020486 -0.016121   \n",
       "Organic_carbon   0.043503  0.003610  0.010242    -0.012653  0.030831   \n",
       "Trihalomethanes  0.003354 -0.013013 -0.009143     0.017084 -0.030274   \n",
       "Turbidity       -0.039057 -0.014449  0.019546     0.002363 -0.011187   \n",
       "Potability      -0.003556 -0.013837  0.033743     0.023779 -0.023577   \n",
       "\n",
       "                 Conductivity  Organic_carbon  Trihalomethanes  Turbidity  \\\n",
       "ph                   0.018614        0.043503         0.003354  -0.039057   \n",
       "Hardness            -0.023915        0.003610        -0.013013  -0.014449   \n",
       "Solids               0.013831        0.010242        -0.009143   0.019546   \n",
       "Chloramines         -0.020486       -0.012653         0.017084   0.002363   \n",
       "Sulfate             -0.016121        0.030831        -0.030274  -0.011187   \n",
       "Conductivity         1.000000        0.020966         0.001285   0.005798   \n",
       "Organic_carbon       0.020966        1.000000        -0.013274  -0.027308   \n",
       "Trihalomethanes      0.001285       -0.013274         1.000000  -0.022145   \n",
       "Turbidity            0.005798       -0.027308        -0.022145   1.000000   \n",
       "Potability          -0.008128       -0.030001         0.007130   0.001581   \n",
       "\n",
       "                 Potability  \n",
       "ph                -0.003556  \n",
       "Hardness          -0.013837  \n",
       "Solids             0.033743  \n",
       "Chloramines        0.023779  \n",
       "Sulfate           -0.023577  \n",
       "Conductivity      -0.008128  \n",
       "Organic_carbon    -0.030001  \n",
       "Trihalomethanes    0.007130  \n",
       "Turbidity          0.001581  \n",
       "Potability         1.000000  "
      ]
     },
     "execution_count": 7,
     "metadata": {},
     "output_type": "execute_result"
    }
   ],
   "source": [
    "#correlation among the features\n",
    "corr = df_temp.corr()\n",
    "\n",
    "#view the corr\n",
    "corr"
   ]
  },
  {
   "cell_type": "code",
   "execution_count": 8,
   "metadata": {
    "colab": {
     "base_uri": "https://localhost:8080/",
     "height": 783
    },
    "id": "I5Vi7kBAtAug",
    "outputId": "b6d9f4f8-6706-41de-841f-3024dae8e2c4"
   },
   "outputs": [
    {
     "data": {
      "image/png": "[encoded data removed]",
      "text/plain": [
       "<Figure size 1000x800 with 2 Axes>"
      ]
     },
     "metadata": {},
     "output_type": "display_data"
    }
   ],
   "source": [
    "#better visualization with a heatmap\n",
    "plt.figure(figsize=(10,8))\n",
    "sns.heatmap(corr,\n",
    "           annot=True,\n",
    "           fmt='.2g',\n",
    "           cmap='YlGnBu')\n",
    "plt.show()"
   ]
  },
  {
   "cell_type": "code",
   "execution_count": 9,
   "metadata": {
    "colab": {
     "base_uri": "https://localhost:8080/"
    },
    "id": "Il28ZBAStE7Z",
    "outputId": "6617d6bf-d456-4bb9-ed8c-a477c8c24143"
   },
   "outputs": [
    {
     "data": {
      "text/plain": [
       "Potability\n",
       "0    0.60989\n",
       "1    0.39011\n",
       "Name: proportion, dtype: float64"
      ]
     },
     "execution_count": 9,
     "metadata": {},
     "output_type": "execute_result"
    }
   ],
   "source": [
    "#percentage of the target labels\n",
    "df_temp['Potability'].value_counts(normalize=True)"
   ]
  },
  {
   "cell_type": "code",
   "execution_count": 10,
   "metadata": {
    "colab": {
     "base_uri": "https://localhost:8080/"
    },
    "id": "hMw-S0aAtIFy",
    "outputId": "a6a8d450-79cf-4bdd-9038-7c30e997b984"
   },
   "outputs": [
    {
     "data": {
      "text/plain": [
       "array([0, 1], dtype=int64)"
      ]
     },
     "execution_count": 10,
     "metadata": {},
     "output_type": "execute_result"
    }
   ],
   "source": [
    "#check the unique entries of the target variable\n",
    "df_temp.Potability.unique()"
   ]
  },
  {
   "cell_type": "code",
   "execution_count": 11,
   "metadata": {
    "colab": {
     "base_uri": "https://localhost:8080/",
     "height": 676
    },
    "id": "z052Oi3btKuQ",
    "outputId": "9ff40c41-705d-4646-9e84-d6aa462996c4"
   },
   "outputs": [
    {
     "data": {
      "image/png": "[encoded data removed]",
      "text/plain": [
       "<Figure size 1000x800 with 1 Axes>"
      ]
     },
     "metadata": {},
     "output_type": "display_data"
    }
   ],
   "source": [
    "#bar chart showing the distribution of counts of potable water to not potable water\n",
    "df_temp['Potability'].value_counts().plot(kind='bar', color=['lightblue', 'salmon'], figsize=(10,8))\n",
    "plt.xticks(rotation=0)\n",
    "plt.show()"
   ]
  },
  {
   "cell_type": "code",
   "execution_count": 12,
   "metadata": {
    "colab": {
     "base_uri": "https://localhost:8080/"
    },
    "id": "U2fw5buUtMh2",
    "outputId": "3339dcb8-ccce-4dab-be25-13ac05ef6440"
   },
   "outputs": [
    {
     "data": {
      "text/plain": [
       "ph                 491\n",
       "Hardness             0\n",
       "Solids               0\n",
       "Chloramines          0\n",
       "Sulfate            781\n",
       "Conductivity         0\n",
       "Organic_carbon       0\n",
       "Trihalomethanes    162\n",
       "Turbidity            0\n",
       "Potability           0\n",
       "dtype: int64"
      ]
     },
     "execution_count": 12,
     "metadata": {},
     "output_type": "execute_result"
    }
   ],
   "source": [
    "#check for missing values\n",
    "df_temp.isna().sum()"
   ]
  },
  {
   "cell_type": "markdown",
   "metadata": {
    "id": "EY3zvduEtTQp"
   },
   "source": [
    "## Data Pre-processing\n"
   ]
  },
  {
   "cell_type": "code",
   "execution_count": 13,
   "metadata": {
    "id": "ml2Sh6nKtPnu"
   },
   "outputs": [],
   "source": [
    "#fill in the missing values using the median for each features\n",
    "df_temp['ph'].fillna(df_temp['ph'].median(), inplace=True)\n",
    "df_temp['Sulfate'].fillna(df_temp['Sulfate'].median(), inplace=True)\n",
    "df_temp['Trihalomethanes'].fillna(df_temp['Trihalomethanes'].median(), inplace=True)"
   ]
  },
  {
   "cell_type": "code",
   "execution_count": 14,
   "metadata": {
    "colab": {
     "base_uri": "https://localhost:8080/"
    },
    "id": "jUIfrD8stck3",
    "outputId": "2f11cd8d-014c-4ce2-8413-fd2b4630e1fc"
   },
   "outputs": [
    {
     "data": {
      "text/plain": [
       "ph                 0\n",
       "Hardness           0\n",
       "Solids             0\n",
       "Chloramines        0\n",
       "Sulfate            0\n",
       "Conductivity       0\n",
       "Organic_carbon     0\n",
       "Trihalomethanes    0\n",
       "Turbidity          0\n",
       "Potability         0\n",
       "dtype: int64"
      ]
     },
     "execution_count": 14,
     "metadata": {},
     "output_type": "execute_result"
    }
   ],
   "source": [
    "df_temp.isna().sum()"
   ]
  },
  {
   "cell_type": "code",
   "execution_count": 15,
   "metadata": {
    "colab": {
     "base_uri": "https://localhost:8080/",
     "height": 206
    },
    "id": "UnxuqGBLtf4b",
    "outputId": "3174a87e-1a45-4348-b275-123468d262d9"
   },
   "outputs": [
    {
     "data": {
      "text/html": [
       "<div>\n",
       "<style scoped>\n",
       "    .dataframe tbody tr th:only-of-type {\n",
       "        vertical-align: middle;\n",
       "    }\n",
       "\n",
       "    .dataframe tbody tr th {\n",
       "        vertical-align: top;\n",
       "    }\n",
       "\n",
       "    .dataframe thead th {\n",
       "        text-align: right;\n",
       "    }\n",
       "</style>\n",
       "<table border=\"1\" class=\"dataframe\">\n",
       "  <thead>\n",
       "    <tr style=\"text-align: right;\">\n",
       "      <th></th>\n",
       "      <th>ph</th>\n",
       "      <th>Hardness</th>\n",
       "      <th>Solids</th>\n",
       "      <th>Chloramines</th>\n",
       "      <th>Sulfate</th>\n",
       "      <th>Conductivity</th>\n",
       "      <th>Organic_carbon</th>\n",
       "      <th>Trihalomethanes</th>\n",
       "      <th>Turbidity</th>\n",
       "      <th>Potability</th>\n",
       "    </tr>\n",
       "  </thead>\n",
       "  <tbody>\n",
       "    <tr>\n",
       "      <th>0</th>\n",
       "      <td>7.036752</td>\n",
       "      <td>204.890455</td>\n",
       "      <td>20791.318981</td>\n",
       "      <td>7.300212</td>\n",
       "      <td>368.516441</td>\n",
       "      <td>564.308654</td>\n",
       "      <td>10.379783</td>\n",
       "      <td>86.990970</td>\n",
       "      <td>2.963135</td>\n",
       "      <td>0</td>\n",
       "    </tr>\n",
       "    <tr>\n",
       "      <th>1</th>\n",
       "      <td>3.716080</td>\n",
       "      <td>129.422921</td>\n",
       "      <td>18630.057858</td>\n",
       "      <td>6.635246</td>\n",
       "      <td>333.073546</td>\n",
       "      <td>592.885359</td>\n",
       "      <td>15.180013</td>\n",
       "      <td>56.329076</td>\n",
       "      <td>4.500656</td>\n",
       "      <td>0</td>\n",
       "    </tr>\n",
       "    <tr>\n",
       "      <th>2</th>\n",
       "      <td>8.099124</td>\n",
       "      <td>224.236259</td>\n",
       "      <td>19909.541732</td>\n",
       "      <td>9.275884</td>\n",
       "      <td>333.073546</td>\n",
       "      <td>418.606213</td>\n",
       "      <td>16.868637</td>\n",
       "      <td>66.420093</td>\n",
       "      <td>3.055934</td>\n",
       "      <td>0</td>\n",
       "    </tr>\n",
       "    <tr>\n",
       "      <th>3</th>\n",
       "      <td>8.316766</td>\n",
       "      <td>214.373394</td>\n",
       "      <td>22018.417441</td>\n",
       "      <td>8.059332</td>\n",
       "      <td>356.886136</td>\n",
       "      <td>363.266516</td>\n",
       "      <td>18.436524</td>\n",
       "      <td>100.341674</td>\n",
       "      <td>4.628771</td>\n",
       "      <td>0</td>\n",
       "    </tr>\n",
       "    <tr>\n",
       "      <th>4</th>\n",
       "      <td>9.092223</td>\n",
       "      <td>181.101509</td>\n",
       "      <td>17978.986339</td>\n",
       "      <td>6.546600</td>\n",
       "      <td>310.135738</td>\n",
       "      <td>398.410813</td>\n",
       "      <td>11.558279</td>\n",
       "      <td>31.997993</td>\n",
       "      <td>4.075075</td>\n",
       "      <td>0</td>\n",
       "    </tr>\n",
       "  </tbody>\n",
       "</table>\n",
       "</div>"
      ],
      "text/plain": [
       "         ph    Hardness        Solids  Chloramines     Sulfate  Conductivity  \\\n",
       "0  7.036752  204.890455  20791.318981     7.300212  368.516441    564.308654   \n",
       "1  3.716080  129.422921  18630.057858     6.635246  333.073546    592.885359   \n",
       "2  8.099124  224.236259  19909.541732     9.275884  333.073546    418.606213   \n",
       "3  8.316766  214.373394  22018.417441     8.059332  356.886136    363.266516   \n",
       "4  9.092223  181.101509  17978.986339     6.546600  310.135738    398.410813   \n",
       "\n",
       "   Organic_carbon  Trihalomethanes  Turbidity  Potability  \n",
       "0       10.379783        86.990970   2.963135           0  \n",
       "1       15.180013        56.329076   4.500656           0  \n",
       "2       16.868637        66.420093   3.055934           0  \n",
       "3       18.436524       100.341674   4.628771           0  \n",
       "4       11.558279        31.997993   4.075075           0  "
      ]
     },
     "execution_count": 15,
     "metadata": {},
     "output_type": "execute_result"
    }
   ],
   "source": [
    "#view the data\n",
    "df_temp.head()"
   ]
  },
  {
   "cell_type": "code",
   "execution_count": 16,
   "metadata": {
    "colab": {
     "base_uri": "https://localhost:8080/"
    },
    "id": "X8prOKJbti8m",
    "outputId": "bb6bdfc9-0d1d-4433-f183-e982dc68c428"
   },
   "outputs": [
    {
     "data": {
      "text/plain": [
       "Potability\n",
       "0    1998\n",
       "1    1278\n",
       "Name: count, dtype: int64"
      ]
     },
     "execution_count": 16,
     "metadata": {},
     "output_type": "execute_result"
    }
   ],
   "source": [
    "#view the target distribution\n",
    "df_temp['Potability'].value_counts()"
   ]
  },
  {
   "cell_type": "code",
   "execution_count": 17,
   "metadata": {
    "id": "X0vC5NzPtmLp"
   },
   "outputs": [],
   "source": [
    "#split the dataset into features and labels\n",
    "X = df_temp.iloc[:, :-1]\n",
    "Y = df_temp.iloc[:,-1]"
   ]
  },
  {
   "cell_type": "code",
   "execution_count": 18,
   "metadata": {
    "colab": {
     "base_uri": "https://localhost:8080/",
     "height": 206
    },
    "id": "U9AO-8VDtpIZ",
    "outputId": "8bc7b175-11ed-4881-bc35-a64d138f491a"
   },
   "outputs": [
    {
     "data": {
      "text/html": [
       "<div>\n",
       "<style scoped>\n",
       "    .dataframe tbody tr th:only-of-type {\n",
       "        vertical-align: middle;\n",
       "    }\n",
       "\n",
       "    .dataframe tbody tr th {\n",
       "        vertical-align: top;\n",
       "    }\n",
       "\n",
       "    .dataframe thead th {\n",
       "        text-align: right;\n",
       "    }\n",
       "</style>\n",
       "<table border=\"1\" class=\"dataframe\">\n",
       "  <thead>\n",
       "    <tr style=\"text-align: right;\">\n",
       "      <th></th>\n",
       "      <th>ph</th>\n",
       "      <th>Hardness</th>\n",
       "      <th>Solids</th>\n",
       "      <th>Chloramines</th>\n",
       "      <th>Sulfate</th>\n",
       "      <th>Conductivity</th>\n",
       "      <th>Organic_carbon</th>\n",
       "      <th>Trihalomethanes</th>\n",
       "      <th>Turbidity</th>\n",
       "    </tr>\n",
       "  </thead>\n",
       "  <tbody>\n",
       "    <tr>\n",
       "      <th>0</th>\n",
       "      <td>7.036752</td>\n",
       "      <td>204.890455</td>\n",
       "      <td>20791.318981</td>\n",
       "      <td>7.300212</td>\n",
       "      <td>368.516441</td>\n",
       "      <td>564.308654</td>\n",
       "      <td>10.379783</td>\n",
       "      <td>86.990970</td>\n",
       "      <td>2.963135</td>\n",
       "    </tr>\n",
       "    <tr>\n",
       "      <th>1</th>\n",
       "      <td>3.716080</td>\n",
       "      <td>129.422921</td>\n",
       "      <td>18630.057858</td>\n",
       "      <td>6.635246</td>\n",
       "      <td>333.073546</td>\n",
       "      <td>592.885359</td>\n",
       "      <td>15.180013</td>\n",
       "      <td>56.329076</td>\n",
       "      <td>4.500656</td>\n",
       "    </tr>\n",
       "    <tr>\n",
       "      <th>2</th>\n",
       "      <td>8.099124</td>\n",
       "      <td>224.236259</td>\n",
       "      <td>19909.541732</td>\n",
       "      <td>9.275884</td>\n",
       "      <td>333.073546</td>\n",
       "      <td>418.606213</td>\n",
       "      <td>16.868637</td>\n",
       "      <td>66.420093</td>\n",
       "      <td>3.055934</td>\n",
       "    </tr>\n",
       "    <tr>\n",
       "      <th>3</th>\n",
       "      <td>8.316766</td>\n",
       "      <td>214.373394</td>\n",
       "      <td>22018.417441</td>\n",
       "      <td>8.059332</td>\n",
       "      <td>356.886136</td>\n",
       "      <td>363.266516</td>\n",
       "      <td>18.436524</td>\n",
       "      <td>100.341674</td>\n",
       "      <td>4.628771</td>\n",
       "    </tr>\n",
       "    <tr>\n",
       "      <th>4</th>\n",
       "      <td>9.092223</td>\n",
       "      <td>181.101509</td>\n",
       "      <td>17978.986339</td>\n",
       "      <td>6.546600</td>\n",
       "      <td>310.135738</td>\n",
       "      <td>398.410813</td>\n",
       "      <td>11.558279</td>\n",
       "      <td>31.997993</td>\n",
       "      <td>4.075075</td>\n",
       "    </tr>\n",
       "  </tbody>\n",
       "</table>\n",
       "</div>"
      ],
      "text/plain": [
       "         ph    Hardness        Solids  Chloramines     Sulfate  Conductivity  \\\n",
       "0  7.036752  204.890455  20791.318981     7.300212  368.516441    564.308654   \n",
       "1  3.716080  129.422921  18630.057858     6.635246  333.073546    592.885359   \n",
       "2  8.099124  224.236259  19909.541732     9.275884  333.073546    418.606213   \n",
       "3  8.316766  214.373394  22018.417441     8.059332  356.886136    363.266516   \n",
       "4  9.092223  181.101509  17978.986339     6.546600  310.135738    398.410813   \n",
       "\n",
       "   Organic_carbon  Trihalomethanes  Turbidity  \n",
       "0       10.379783        86.990970   2.963135  \n",
       "1       15.180013        56.329076   4.500656  \n",
       "2       16.868637        66.420093   3.055934  \n",
       "3       18.436524       100.341674   4.628771  \n",
       "4       11.558279        31.997993   4.075075  "
      ]
     },
     "execution_count": 18,
     "metadata": {},
     "output_type": "execute_result"
    }
   ],
   "source": [
    "X.head()"
   ]
  },
  {
   "cell_type": "code",
   "execution_count": 19,
   "metadata": {
    "colab": {
     "base_uri": "https://localhost:8080/"
    },
    "id": "7TNMi-kdtqxw",
    "outputId": "6149975c-4be7-43e2-9af0-39476073ad4b"
   },
   "outputs": [
    {
     "data": {
      "text/plain": [
       "0    0\n",
       "1    0\n",
       "2    0\n",
       "3    0\n",
       "4    0\n",
       "Name: Potability, dtype: int64"
      ]
     },
     "execution_count": 19,
     "metadata": {},
     "output_type": "execute_result"
    }
   ],
   "source": [
    "Y.head()"
   ]
  },
  {
   "cell_type": "code",
   "execution_count": 20,
   "metadata": {
    "colab": {
     "base_uri": "https://localhost:8080/"
    },
    "id": "_9YpzOcfttYY",
    "outputId": "7f937657-9131-4836-a75f-fd8135c1773d"
   },
   "outputs": [
    {
     "name": "stdout",
     "output_type": "stream",
     "text": [
      "Counter({0: 1998, 1: 1278})\n"
     ]
    }
   ],
   "source": [
    "counter = Counter(Y)\n",
    "print(counter)"
   ]
  },
  {
   "cell_type": "code",
   "execution_count": 21,
   "metadata": {
    "colab": {
     "base_uri": "https://localhost:8080/"
    },
    "id": "z_ZGWRgHtwBD",
    "outputId": "53e088f4-e573-4293-d246-d10db840fa01"
   },
   "outputs": [
    {
     "name": "stdout",
     "output_type": "stream",
     "text": [
      "Counter({0: 1998, 1: 1998})\n"
     ]
    }
   ],
   "source": [
    "oversample = SMOTE()\n",
    "X, Y = oversample.fit_resample(X,Y)\n",
    "counter_oversample = Counter(Y)\n",
    "print(counter_oversample)"
   ]
  },
  {
   "cell_type": "code",
   "execution_count": 22,
   "metadata": {
    "id": "LYfAfNX7tyeT"
   },
   "outputs": [],
   "source": [
    "#split the dataset into training and test data\n",
    "X_train, X_test, Y_train, Y_test = train_test_split(X,Y, test_size=0.2, random_state=21, stratify=Y)"
   ]
  },
  {
   "cell_type": "code",
   "execution_count": 23,
   "metadata": {
    "colab": {
     "base_uri": "https://localhost:8080/"
    },
    "id": "yGz5PBeft2t-",
    "outputId": "aba55ee4-786a-436a-b9ab-9db7c80ecb23"
   },
   "outputs": [
    {
     "data": {
      "text/plain": [
       "array([[-0.01764471,  2.74175093,  2.82145147,  0.19845233, -1.97044585,\n",
       "         1.65865944,  0.06183292,  0.5275768 ,  0.20243132],\n",
       "       [-0.01764471,  0.98322361,  1.1478818 , -0.11073946, -0.54872378,\n",
       "        -1.45980438,  1.53842406, -0.76943753,  2.06353934],\n",
       "       [-0.01764471,  2.77751983,  2.1861948 , -1.04337503, -0.02731247,\n",
       "        -0.62780485, -0.09193585,  2.08956177,  0.46703003],\n",
       "       [-0.28164542,  0.18522897, -1.18467773, -1.27629518,  0.32728616,\n",
       "        -0.39355628, -0.92973681,  0.86347131,  0.00570581],\n",
       "       [ 0.95234198,  0.57114095,  0.56664409, -0.37382414, -1.41039829,\n",
       "         0.22439142, -0.44523296, -1.2875512 ,  0.24109479],\n",
       "       [ 2.12436898, -3.13921019,  0.39418365, -0.33497146,  1.41402903,\n",
       "        -0.46745118, -0.74213923,  0.21474051, -0.30300554],\n",
       "       [ 1.86422611, -1.98755388,  0.26703702, -1.87210425, -0.02731247,\n",
       "         0.04143187,  1.2040486 , -0.04193024,  1.71240589],\n",
       "       [-0.93063329, -0.36094618,  0.01447832, -0.53638365,  0.37762536,\n",
       "         0.29976638, -0.41134635, -0.01049654, -1.39301603],\n",
       "       [ 0.33836694, -0.29755533, -1.17710544, -0.80220721, -0.02731247,\n",
       "        -0.78155732, -1.09894801, -1.07727741, -0.66229321],\n",
       "       [ 0.10497657, -0.63575957,  1.56060217,  0.6027846 , -0.38459309,\n",
       "         0.54046464,  0.58831043,  0.33756179, -0.26817231]])"
      ]
     },
     "execution_count": 23,
     "metadata": {},
     "output_type": "execute_result"
    }
   ],
   "source": [
    "sc = StandardScaler()\n",
    "X_train = sc.fit_transform(X_train)\n",
    "X_test = sc.transform(X_test)\n",
    "X_train[:10]"
   ]
  },
  {
   "cell_type": "code",
   "execution_count": 25,
   "metadata": {},
   "outputs": [],
   "source": [
    "d = {'mean':sc.mean_,'scale':sc.scale_}\n",
    "import pickle\n",
    "with open('models\\scaler_params.pkl','wb') as f:\n",
    "    pickle.dump(d,f)"
   ]
  },
  {
   "cell_type": "markdown",
   "metadata": {
    "id": "TY8BohYRt-PW"
   },
   "source": [
    "### Model Building"
   ]
  },
  {
   "cell_type": "code",
   "execution_count": 26,
   "metadata": {
    "id": "pizRIngQt6d6"
   },
   "outputs": [
    {
     "name": "stdout",
     "output_type": "stream",
     "text": [
      "WARNING:tensorflow:From c:\\Users\\Siva prathap K\\Desktop\\project\\venv\\Lib\\site-packages\\keras\\src\\backend.py:873: The name tf.get_default_graph is deprecated. Please use tf.compat.v1.get_default_graph instead.\n",
      "\n"
     ]
    }
   ],
   "source": [
    "model = Sequential()\n",
    "model.add(Dense(units=9, activation='relu'))\n",
    "model.add(Dense(units=9, activation='relu'))\n",
    "model.add(Dense(units=1, activation='sigmoid'))"
   ]
  },
  {
   "cell_type": "code",
   "execution_count": 27,
   "metadata": {
    "id": "mBMI_nGwuCxJ"
   },
   "outputs": [
    {
     "name": "stdout",
     "output_type": "stream",
     "text": [
      "WARNING:tensorflow:From c:\\Users\\Siva prathap K\\Desktop\\project\\venv\\Lib\\site-packages\\keras\\src\\optimizers\\__init__.py:309: The name tf.train.Optimizer is deprecated. Please use tf.compat.v1.train.Optimizer instead.\n",
      "\n"
     ]
    }
   ],
   "source": [
    "model.compile(optimizer='adam',\n",
    "             loss='binary_crossentropy',\n",
    "             metrics=['accuracy'])"
   ]
  },
  {
   "cell_type": "code",
   "execution_count": 28,
   "metadata": {
    "colab": {
     "base_uri": "https://localhost:8080/"
    },
    "id": "aZonY-wkuHGM",
    "outputId": "d56a2de7-fb43-498f-eba7-fd845fbecf80",
    "scrolled": true
   },
   "outputs": [
    {
     "name": "stdout",
     "output_type": "stream",
     "text": [
      "Epoch 1/120\n",
      "WARNING:tensorflow:From c:\\Users\\Siva prathap K\\Desktop\\project\\venv\\Lib\\site-packages\\keras\\src\\utils\\tf_utils.py:492: The name tf.ragged.RaggedTensorValue is deprecated. Please use tf.compat.v1.ragged.RaggedTensorValue instead.\n",
      "\n",
      "WARNING:tensorflow:From c:\\Users\\Siva prathap K\\Desktop\\project\\venv\\Lib\\site-packages\\keras\\src\\engine\\base_layer_utils.py:384: The name tf.executing_eagerly_outside_functions is deprecated. Please use tf.compat.v1.executing_eagerly_outside_functions instead.\n",
      "\n",
      "100/100 [==============================] - 1s 1ms/step - loss: 0.7081 - accuracy: 0.4787\n",
      "Epoch 2/120\n",
      "100/100 [==============================] - 0s 977us/step - loss: 0.6971 - accuracy: 0.5091\n",
      "Epoch 3/120\n",
      "100/100 [==============================] - 0s 1ms/step - loss: 0.6923 - accuracy: 0.5197\n",
      "Epoch 4/120\n",
      "100/100 [==============================] - 0s 1ms/step - loss: 0.6882 - accuracy: 0.5325\n",
      "Epoch 5/120\n",
      "100/100 [==============================] - 0s 954us/step - loss: 0.6845 - accuracy: 0.5350\n",
      "Epoch 6/120\n",
      "100/100 [==============================] - 0s 959us/step - loss: 0.6804 - accuracy: 0.5494\n",
      "Epoch 7/120\n",
      "100/100 [==============================] - 0s 1ms/step - loss: 0.6761 - accuracy: 0.5569\n",
      "Epoch 8/120\n",
      "100/100 [==============================] - 0s 1ms/step - loss: 0.6713 - accuracy: 0.5682\n",
      "Epoch 9/120\n",
      "100/100 [==============================] - 0s 960us/step - loss: 0.6664 - accuracy: 0.5779\n",
      "Epoch 10/120\n",
      "100/100 [==============================] - 0s 982us/step - loss: 0.6610 - accuracy: 0.5810\n",
      "Epoch 11/120\n",
      "100/100 [==============================] - 0s 970us/step - loss: 0.6555 - accuracy: 0.5932\n",
      "Epoch 12/120\n",
      "100/100 [==============================] - 0s 993us/step - loss: 0.6506 - accuracy: 0.6020\n",
      "Epoch 13/120\n",
      "100/100 [==============================] - 0s 1ms/step - loss: 0.6460 - accuracy: 0.6067\n",
      "Epoch 14/120\n",
      "100/100 [==============================] - 0s 1ms/step - loss: 0.6422 - accuracy: 0.6123\n",
      "Epoch 15/120\n",
      "100/100 [==============================] - 0s 980us/step - loss: 0.6385 - accuracy: 0.6242\n",
      "Epoch 16/120\n",
      "100/100 [==============================] - 0s 993us/step - loss: 0.6353 - accuracy: 0.6314\n",
      "Epoch 17/120\n",
      "100/100 [==============================] - 0s 970us/step - loss: 0.6329 - accuracy: 0.6355\n",
      "Epoch 18/120\n",
      "100/100 [==============================] - 0s 970us/step - loss: 0.6299 - accuracy: 0.6389\n",
      "Epoch 19/120\n",
      "100/100 [==============================] - 0s 960us/step - loss: 0.6281 - accuracy: 0.6427\n",
      "Epoch 20/120\n",
      "100/100 [==============================] - 0s 1ms/step - loss: 0.6261 - accuracy: 0.6461\n",
      "Epoch 21/120\n",
      "100/100 [==============================] - 0s 1ms/step - loss: 0.6247 - accuracy: 0.6471\n",
      "Epoch 22/120\n",
      "100/100 [==============================] - 0s 976us/step - loss: 0.6230 - accuracy: 0.6508\n",
      "Epoch 23/120\n",
      "100/100 [==============================] - 0s 959us/step - loss: 0.6221 - accuracy: 0.6489\n",
      "Epoch 24/120\n",
      "100/100 [==============================] - 0s 952us/step - loss: 0.6210 - accuracy: 0.6489\n",
      "Epoch 25/120\n",
      "100/100 [==============================] - 0s 970us/step - loss: 0.6193 - accuracy: 0.6539\n",
      "Epoch 26/120\n",
      "100/100 [==============================] - 0s 962us/step - loss: 0.6190 - accuracy: 0.6549\n",
      "Epoch 27/120\n",
      "100/100 [==============================] - 0s 960us/step - loss: 0.6176 - accuracy: 0.6568\n",
      "Epoch 28/120\n",
      "100/100 [==============================] - 0s 991us/step - loss: 0.6167 - accuracy: 0.6564\n",
      "Epoch 29/120\n",
      "100/100 [==============================] - 0s 1ms/step - loss: 0.6161 - accuracy: 0.6627\n",
      "Epoch 30/120\n",
      "100/100 [==============================] - 0s 1ms/step - loss: 0.6155 - accuracy: 0.6658\n",
      "Epoch 31/120\n",
      "100/100 [==============================] - 0s 956us/step - loss: 0.6142 - accuracy: 0.6646\n",
      "Epoch 32/120\n",
      "100/100 [==============================] - 0s 983us/step - loss: 0.6134 - accuracy: 0.6652\n",
      "Epoch 33/120\n",
      "100/100 [==============================] - 0s 1ms/step - loss: 0.6128 - accuracy: 0.6680\n",
      "Epoch 34/120\n",
      "100/100 [==============================] - 0s 1ms/step - loss: 0.6119 - accuracy: 0.6686\n",
      "Epoch 35/120\n",
      "100/100 [==============================] - 0s 980us/step - loss: 0.6115 - accuracy: 0.6696\n",
      "Epoch 36/120\n",
      "100/100 [==============================] - 0s 948us/step - loss: 0.6106 - accuracy: 0.6674\n",
      "Epoch 37/120\n",
      "100/100 [==============================] - 0s 954us/step - loss: 0.6098 - accuracy: 0.6640\n",
      "Epoch 38/120\n",
      "100/100 [==============================] - 0s 1ms/step - loss: 0.6095 - accuracy: 0.6655\n",
      "Epoch 39/120\n",
      "100/100 [==============================] - 0s 1ms/step - loss: 0.6093 - accuracy: 0.6683\n",
      "Epoch 40/120\n",
      "100/100 [==============================] - 0s 968us/step - loss: 0.6081 - accuracy: 0.6655\n",
      "Epoch 41/120\n",
      "100/100 [==============================] - 0s 968us/step - loss: 0.6076 - accuracy: 0.6693\n",
      "Epoch 42/120\n",
      "100/100 [==============================] - 0s 978us/step - loss: 0.6067 - accuracy: 0.6646\n",
      "Epoch 43/120\n",
      "100/100 [==============================] - 0s 940us/step - loss: 0.6059 - accuracy: 0.6743\n",
      "Epoch 44/120\n",
      "100/100 [==============================] - 0s 970us/step - loss: 0.6058 - accuracy: 0.6724\n",
      "Epoch 45/120\n",
      "100/100 [==============================] - 0s 963us/step - loss: 0.6046 - accuracy: 0.6686\n",
      "Epoch 46/120\n",
      "100/100 [==============================] - 0s 1ms/step - loss: 0.6046 - accuracy: 0.6693\n",
      "Epoch 47/120\n",
      "100/100 [==============================] - 0s 969us/step - loss: 0.6038 - accuracy: 0.6718\n",
      "Epoch 48/120\n",
      "100/100 [==============================] - 0s 981us/step - loss: 0.6032 - accuracy: 0.6708\n",
      "Epoch 49/120\n",
      "100/100 [==============================] - 0s 995us/step - loss: 0.6025 - accuracy: 0.6727\n",
      "Epoch 50/120\n",
      "100/100 [==============================] - 0s 970us/step - loss: 0.6020 - accuracy: 0.6690\n",
      "Epoch 51/120\n",
      "100/100 [==============================] - 0s 970us/step - loss: 0.6016 - accuracy: 0.6758\n",
      "Epoch 52/120\n",
      "100/100 [==============================] - 0s 967us/step - loss: 0.6015 - accuracy: 0.6718\n",
      "Epoch 53/120\n",
      "100/100 [==============================] - 0s 955us/step - loss: 0.6006 - accuracy: 0.6755\n",
      "Epoch 54/120\n",
      "100/100 [==============================] - 0s 1ms/step - loss: 0.6010 - accuracy: 0.6762\n",
      "Epoch 55/120\n",
      "100/100 [==============================] - 0s 1ms/step - loss: 0.6005 - accuracy: 0.6727\n",
      "Epoch 56/120\n",
      "100/100 [==============================] - 0s 983us/step - loss: 0.5994 - accuracy: 0.6746\n",
      "Epoch 57/120\n",
      "100/100 [==============================] - 0s 981us/step - loss: 0.5990 - accuracy: 0.6715\n",
      "Epoch 58/120\n",
      "100/100 [==============================] - 0s 1ms/step - loss: 0.5988 - accuracy: 0.6733\n",
      "Epoch 59/120\n",
      "100/100 [==============================] - 0s 1ms/step - loss: 0.5987 - accuracy: 0.6721\n",
      "Epoch 60/120\n",
      "100/100 [==============================] - 0s 991us/step - loss: 0.5978 - accuracy: 0.6733\n",
      "Epoch 61/120\n",
      "100/100 [==============================] - 0s 990us/step - loss: 0.5983 - accuracy: 0.6771\n",
      "Epoch 62/120\n",
      "100/100 [==============================] - 0s 980us/step - loss: 0.5969 - accuracy: 0.6730\n",
      "Epoch 63/120\n",
      "100/100 [==============================] - 0s 974us/step - loss: 0.5964 - accuracy: 0.6749\n",
      "Epoch 64/120\n",
      "100/100 [==============================] - 0s 1ms/step - loss: 0.5963 - accuracy: 0.6743\n",
      "Epoch 65/120\n",
      "100/100 [==============================] - 0s 1ms/step - loss: 0.5963 - accuracy: 0.6762\n",
      "Epoch 66/120\n",
      "100/100 [==============================] - 0s 1ms/step - loss: 0.5956 - accuracy: 0.6743\n",
      "Epoch 67/120\n",
      "100/100 [==============================] - 0s 948us/step - loss: 0.5949 - accuracy: 0.6730\n",
      "Epoch 68/120\n",
      "100/100 [==============================] - 0s 949us/step - loss: 0.5946 - accuracy: 0.6740\n",
      "Epoch 69/120\n",
      "100/100 [==============================] - 0s 949us/step - loss: 0.5945 - accuracy: 0.6721\n",
      "Epoch 70/120\n",
      "100/100 [==============================] - 0s 977us/step - loss: 0.5934 - accuracy: 0.6812\n",
      "Epoch 71/120\n",
      "100/100 [==============================] - 0s 1ms/step - loss: 0.5940 - accuracy: 0.6737\n",
      "Epoch 72/120\n",
      "100/100 [==============================] - 0s 1ms/step - loss: 0.5931 - accuracy: 0.6793\n",
      "Epoch 73/120\n",
      "100/100 [==============================] - 0s 960us/step - loss: 0.5929 - accuracy: 0.6765\n",
      "Epoch 74/120\n",
      "100/100 [==============================] - 0s 970us/step - loss: 0.5924 - accuracy: 0.6799\n",
      "Epoch 75/120\n",
      "100/100 [==============================] - 0s 982us/step - loss: 0.5924 - accuracy: 0.6805\n",
      "Epoch 76/120\n",
      "100/100 [==============================] - 0s 923us/step - loss: 0.5923 - accuracy: 0.6805\n",
      "Epoch 77/120\n",
      "100/100 [==============================] - 0s 957us/step - loss: 0.5917 - accuracy: 0.6774\n",
      "Epoch 78/120\n",
      "100/100 [==============================] - 0s 998us/step - loss: 0.5919 - accuracy: 0.6824\n",
      "Epoch 79/120\n",
      "100/100 [==============================] - 0s 988us/step - loss: 0.5915 - accuracy: 0.6821\n",
      "Epoch 80/120\n",
      "100/100 [==============================] - 0s 1ms/step - loss: 0.5910 - accuracy: 0.6780\n",
      "Epoch 81/120\n",
      "100/100 [==============================] - 0s 1ms/step - loss: 0.5907 - accuracy: 0.6796\n",
      "Epoch 82/120\n",
      "100/100 [==============================] - 0s 981us/step - loss: 0.5901 - accuracy: 0.6780\n",
      "Epoch 83/120\n",
      "100/100 [==============================] - 0s 980us/step - loss: 0.5904 - accuracy: 0.6777\n",
      "Epoch 84/120\n",
      "100/100 [==============================] - 0s 1ms/step - loss: 0.5898 - accuracy: 0.6846\n",
      "Epoch 85/120\n",
      "100/100 [==============================] - 0s 988us/step - loss: 0.5898 - accuracy: 0.6802\n",
      "Epoch 86/120\n",
      "100/100 [==============================] - 0s 1ms/step - loss: 0.5891 - accuracy: 0.6805\n",
      "Epoch 87/120\n",
      "100/100 [==============================] - 0s 959us/step - loss: 0.5891 - accuracy: 0.6818\n",
      "Epoch 88/120\n",
      "100/100 [==============================] - 0s 971us/step - loss: 0.5887 - accuracy: 0.6787\n",
      "Epoch 89/120\n",
      "100/100 [==============================] - 0s 999us/step - loss: 0.5885 - accuracy: 0.6818\n",
      "Epoch 90/120\n",
      "100/100 [==============================] - 0s 1ms/step - loss: 0.5885 - accuracy: 0.6843\n",
      "Epoch 91/120\n",
      "100/100 [==============================] - 0s 1ms/step - loss: 0.5886 - accuracy: 0.6827\n",
      "Epoch 92/120\n",
      "100/100 [==============================] - 0s 997us/step - loss: 0.5882 - accuracy: 0.6818\n",
      "Epoch 93/120\n",
      "100/100 [==============================] - 0s 961us/step - loss: 0.5873 - accuracy: 0.6837\n",
      "Epoch 94/120\n",
      "100/100 [==============================] - 0s 976us/step - loss: 0.5875 - accuracy: 0.6787\n",
      "Epoch 95/120\n",
      "100/100 [==============================] - 0s 945us/step - loss: 0.5870 - accuracy: 0.6837\n",
      "Epoch 96/120\n",
      "100/100 [==============================] - 0s 982us/step - loss: 0.5871 - accuracy: 0.6843\n",
      "Epoch 97/120\n",
      "100/100 [==============================] - 0s 960us/step - loss: 0.5873 - accuracy: 0.6837\n",
      "Epoch 98/120\n",
      "100/100 [==============================] - 0s 970us/step - loss: 0.5866 - accuracy: 0.6824\n",
      "Epoch 99/120\n",
      "100/100 [==============================] - 0s 1ms/step - loss: 0.5865 - accuracy: 0.6843\n",
      "Epoch 100/120\n",
      "100/100 [==============================] - 0s 1ms/step - loss: 0.5863 - accuracy: 0.6799\n",
      "Epoch 101/120\n",
      "100/100 [==============================] - 0s 958us/step - loss: 0.5858 - accuracy: 0.6843\n",
      "Epoch 102/120\n",
      "100/100 [==============================] - 0s 1ms/step - loss: 0.5864 - accuracy: 0.6871\n",
      "Epoch 103/120\n",
      "100/100 [==============================] - 0s 1ms/step - loss: 0.5856 - accuracy: 0.6840\n",
      "Epoch 104/120\n",
      "100/100 [==============================] - 0s 970us/step - loss: 0.5856 - accuracy: 0.6877\n",
      "Epoch 105/120\n",
      "100/100 [==============================] - 0s 1ms/step - loss: 0.5851 - accuracy: 0.6862\n",
      "Epoch 106/120\n",
      "100/100 [==============================] - 0s 1ms/step - loss: 0.5853 - accuracy: 0.6824\n",
      "Epoch 107/120\n",
      "100/100 [==============================] - 0s 1ms/step - loss: 0.5850 - accuracy: 0.6840\n",
      "Epoch 108/120\n",
      "100/100 [==============================] - 0s 991us/step - loss: 0.5849 - accuracy: 0.6865\n",
      "Epoch 109/120\n",
      "100/100 [==============================] - 0s 1ms/step - loss: 0.5841 - accuracy: 0.6887\n",
      "Epoch 110/120\n",
      "100/100 [==============================] - 0s 1ms/step - loss: 0.5845 - accuracy: 0.6874\n",
      "Epoch 111/120\n",
      "100/100 [==============================] - 0s 1ms/step - loss: 0.5847 - accuracy: 0.6884\n",
      "Epoch 112/120\n",
      "100/100 [==============================] - 0s 1ms/step - loss: 0.5841 - accuracy: 0.6855\n",
      "Epoch 113/120\n",
      "100/100 [==============================] - 0s 1ms/step - loss: 0.5840 - accuracy: 0.6884\n",
      "Epoch 114/120\n",
      "100/100 [==============================] - 0s 939us/step - loss: 0.5843 - accuracy: 0.6852\n",
      "Epoch 115/120\n",
      "100/100 [==============================] - 0s 1ms/step - loss: 0.5832 - accuracy: 0.6893\n",
      "Epoch 116/120\n",
      "100/100 [==============================] - 0s 996us/step - loss: 0.5842 - accuracy: 0.6877\n",
      "Epoch 117/120\n",
      "100/100 [==============================] - 0s 1ms/step - loss: 0.5831 - accuracy: 0.6893\n",
      "Epoch 118/120\n",
      "100/100 [==============================] - 0s 1ms/step - loss: 0.5830 - accuracy: 0.6887\n",
      "Epoch 119/120\n",
      "100/100 [==============================] - 0s 1ms/step - loss: 0.5834 - accuracy: 0.6865\n",
      "Epoch 120/120\n",
      "100/100 [==============================] - 0s 942us/step - loss: 0.5829 - accuracy: 0.6855\n"
     ]
    },
    {
     "data": {
      "text/plain": [
       "<keras.src.callbacks.History at 0x1a8ee5d9f50>"
      ]
     },
     "execution_count": 28,
     "metadata": {},
     "output_type": "execute_result"
    }
   ],
   "source": [
    "history = model.fit(X_train, Y_train, batch_size=32, epochs=120)\n",
    "history"
   ]
  },
  {
   "cell_type": "markdown",
   "metadata": {
    "id": "SvEyfQU8uZd5"
   },
   "source": [
    "### Evaluation and Results"
   ]
  },
  {
   "cell_type": "code",
   "execution_count": 29,
   "metadata": {
    "colab": {
     "base_uri": "https://localhost:8080/"
    },
    "id": "a1HmGjglucLy",
    "outputId": "b1812ffb-8b87-4ebc-c950-15d4f98afe84"
   },
   "outputs": [
    {
     "name": "stdout",
     "output_type": "stream",
     "text": [
      "25/25 [==============================] - 0s 920us/step\n"
     ]
    }
   ],
   "source": [
    "from sklearn.metrics import roc_curve\n",
    "Y_pred_keras = model.predict(X_test).ravel()\n",
    "fpr_keras, tpr_keras, thresholds_keras = roc_curve(Y_test, Y_pred_keras)"
   ]
  },
  {
   "cell_type": "code",
   "execution_count": 30,
   "metadata": {
    "id": "wnZHhdbOufUI"
   },
   "outputs": [],
   "source": [
    "from sklearn.metrics import auc\n",
    "auc_keras = auc(fpr_keras, tpr_keras)"
   ]
  },
  {
   "cell_type": "code",
   "execution_count": 31,
   "metadata": {
    "colab": {
     "base_uri": "https://localhost:8080/",
     "height": 489
    },
    "id": "sEbt0gK3uhws",
    "outputId": "5745f196-f96e-4a79-af04-f5c8a16a9fe2"
   },
   "outputs": [
    {
     "data": {
      "image/png": "[encoded data removed]",
      "text/plain": [
       "<Figure size 640x480 with 1 Axes>"
      ]
     },
     "metadata": {},
     "output_type": "display_data"
    }
   ],
   "source": [
    "plt.figure(1)\n",
    "plt.plot([0, 1], [0, 1], 'k--')\n",
    "plt.plot(fpr_keras, tpr_keras, label='Keras (area = {:.3f})'.format(auc_keras))\n",
    "plt.xlabel('False positive rate')\n",
    "plt.ylabel('True positive rate')\n",
    "plt.title('ROC curve')\n",
    "plt.legend(loc='best')\n",
    "plt.show()"
   ]
  },
  {
   "cell_type": "code",
   "execution_count": 32,
   "metadata": {
    "colab": {
     "base_uri": "https://localhost:8080/",
     "height": 526
    },
    "id": "wKjkY_-7ulDp",
    "outputId": "c710b05c-f426-44f4-eb00-16c290856b96"
   },
   "outputs": [
    {
     "name": "stdout",
     "output_type": "stream",
     "text": [
      "25/25 [==============================] - 0s 904us/step\n"
     ]
    },
    {
     "data": {
      "image/png": "[encoded data removed]",
      "text/plain": [
       "<Figure size 640x480 with 2 Axes>"
      ]
     },
     "metadata": {},
     "output_type": "display_data"
    }
   ],
   "source": [
    "Y_pred = model.predict(X_test)\n",
    "Y_pred = Y_pred > 0.5\n",
    "cm = confusion_matrix(Y_test, Y_pred)\n",
    "p = sns.heatmap(pd.DataFrame(cm), annot=True, cmap=\"YlGnBu\" ,fmt='g')\n",
    "plt.title('Confusion matrix', y=1.1)\n",
    "plt.ylabel('Actual label')\n",
    "plt.xlabel('Predicted label')\n",
    "plt.savefig(\"results\\conmat.png\", bbox_inches=\"tight\", format=\"png\")"
   ]
  },
  {
   "cell_type": "code",
   "execution_count": 33,
   "metadata": {
    "id": "eNxmucG4usWh"
   },
   "outputs": [],
   "source": [
    "loss = history.history[\"loss\"]\n",
    "acc = history.history[\"accuracy\"]"
   ]
  },
  {
   "cell_type": "code",
   "execution_count": 34,
   "metadata": {
    "colab": {
     "base_uri": "https://localhost:8080/",
     "height": 726
    },
    "id": "X_X0LY8iuxaU",
    "outputId": "75def2d7-cbe0-40f2-ea34-c64242080f17"
   },
   "outputs": [
    {
     "data": {
      "image/png": "[encoded data removed]",
      "text/plain": [
       "<Figure size 1000x800 with 1 Axes>"
      ]
     },
     "metadata": {},
     "output_type": "display_data"
    }
   ],
   "source": [
    "plt.figure(figsize=(10,8))\n",
    "plt.plot(loss, \"r--\", label=\"Loss\")\n",
    "plt.plot(acc, \"g--\", label=\"Accuracy\")\n",
    "plt.title(\"loss accuracy plot\".upper(), size=20, weight=\"bold\")\n",
    "plt.xlabel(\"Epoch\")\n",
    "plt.legend();\n",
    "plt.savefig(\"results\\loss accuracy plot.png\", bbox_inches=\"tight\", format=\"png\")"
   ]
  },
  {
   "cell_type": "code",
   "execution_count": 35,
   "metadata": {},
   "outputs": [],
   "source": [
    "model.save(\"models\\modelwqp.h5\")"
   ]
  },
  {
   "cell_type": "code",
   "execution_count": null,
   "metadata": {},
   "outputs": [],
   "source": []
  }
 ],
 "metadata": {
  "colab": {
   "provenance": []
  },
  "kernelspec": {
   "display_name": "my_project_kernel",
   "language": "python",
   "name": "my_project_kernel"
  },
  "language_info": {
   "codemirror_mode": {
    "name": "ipython",
    "version": 3
   },
   "file_extension": ".py",
   "mimetype": "text/x-python",
   "name": "python",
   "nbconvert_exporter": "python",
   "pygments_lexer": "ipython3",
   "version": "3.11.8"
  }
 },
 "nbformat": 4,
 "nbformat_minor": 4
}
